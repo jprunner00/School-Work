{
 "cells": [
  {
   "cell_type": "code",
   "execution_count": 1,
   "metadata": {},
   "outputs": [],
   "source": [
    "import numpy as np\n",
    "import matplotlib\n",
    "import matplotlib.pyplot as plot"
   ]
  },
  {
   "cell_type": "code",
   "execution_count": 2,
   "metadata": {},
   "outputs": [],
   "source": [
    "ee175 = open(\"Data1/ee_mll175_electrons.txt\")\n",
    "ee175data = ee175.readlines()\n",
    "ee275 = open(\"Data1/ee_mll275_electrons.txt\")\n",
    "ee275data = ee275.readlines()\n",
    "ee375 = open(\"Data1/ee_mll375_electrons.txt\")\n",
    "ee375data = ee375.readlines()\n",
    "ee450 = open(\"Data1/ee_mll450_electrons.txt\")\n",
    "ee450data = ee450.readlines()\n",
    "ee650 = open(\"Data1/ee_mll650_electrons.txt\")\n",
    "ee650data = ee650.readlines()\n",
    "ee900 = open(\"Data1/ee_mll900_electrons.txt\")\n",
    "ee900data = ee900.readlines()\n",
    "zp200 = open(\"Data1/zp_mzp200_electrons.txt\")\n",
    "zp200data = zp200.readlines()\n",
    "zp300 = open(\"Data1/zp_mzp300_electrons.txt\")\n",
    "zp300data = zp300.readlines()\n",
    "zp400 = open(\"Data1/zp_mzp400_electrons.txt\")\n",
    "zp400data = zp400.readlines()\n",
    "zp500 = open(\"Data1/zp_mzp500_electrons.txt\")\n",
    "zp500data = zp500.readlines()\n",
    "zp750 = open(\"Data1/zp_mzp750_electrons.txt\")\n",
    "zp750data = zp750.readlines()\n",
    "zp1000 = open(\"Data1/zp_mzp1000_electrons.txt\")\n",
    "zp1000data = zp1000.readlines()"
   ]
  },
  {
   "cell_type": "code",
   "execution_count": 3,
   "metadata": {},
   "outputs": [],
   "source": [
    "ee=[ee175data, ee275data, ee375data, ee450data, ee650data, ee900data]\n",
    "zp=[zp200data, zp300data, zp400data, zp500data, zp750data, zp1000data]"
   ]
  },
  {
   "cell_type": "code",
   "execution_count": 4,
   "metadata": {},
   "outputs": [],
   "source": [
    "def test(x,w,rb,re):\n",
    "  \n",
    "    #Background masses\n",
    "    eemass=[]\n",
    "    for i in range(len(ee[x])):\n",
    "        if \"NumElectrons: 2\" in ee[x][i]:\n",
    "            collision=[]\n",
    "            electron1=[]\n",
    "            electron2=[]\n",
    "            collision.append(ee[x][i+1])\n",
    "            collision.append(ee[x][i+2])\n",
    "        \n",
    "        #Extracting Pt1 (0)\n",
    "            index_b=14\n",
    "            index_e=collision[0].find(\" Eta\")\n",
    "            electron1.append(collision[0][index_b:index_e])\n",
    "        \n",
    "        #Extracting Eta1 (1)\n",
    "            index_b=index_e+5\n",
    "            index_e=collision[0].find(\" Phi\")\n",
    "            electron1.append(collision[0][index_b:index_e])\n",
    "        \n",
    "        #Extracting Phi1 (2)\n",
    "            index_b=index_e+5\n",
    "            index_e=collision[0].find(\" Charge\")\n",
    "            electron1.append(collision[0][index_b:index_e])\n",
    "        \n",
    "        #Extracting Pt2 (0)\n",
    "            index_b=14\n",
    "            index_e=collision[1].find(\" Eta\")\n",
    "            electron2.append(collision[1][index_b:index_e])\n",
    "        \n",
    "        #Extracting Eta2 (1)\n",
    "            index_b=index_e+5\n",
    "            index_e=collision[1].find(\" Phi\")\n",
    "            electron2.append(collision[1][index_b:index_e])\n",
    "        \n",
    "        #Extracting Phi2 (2)\n",
    "            index_b=index_e+5\n",
    "            index_e=collision[1].find(\" Charge\")\n",
    "            electron2.append(collision[1][index_b:index_e])\n",
    "        \n",
    "        #Calculate momentum x,y,z\n",
    "            px1=float(electron1[0])*np.cos(float(electron1[2]))\n",
    "            py1=float(electron1[0])*np.sin(float(electron1[2]))\n",
    "            pz1=float(electron1[0])*np.sinh(float(electron1[1]))\n",
    "            px2=float(electron2[0])*np.cos(float(electron2[2]))\n",
    "            py2=float(electron2[0])*np.sin(float(electron2[2]))\n",
    "            pz2=float(electron2[0])*np.sinh(float(electron2[1]))\n",
    "        \n",
    "        #Calculating energy\n",
    "            p_1=np.sqrt((px1**2+py1**2+pz1**2))\n",
    "            p_2=np.sqrt((px2**2+py2**2+pz2**2))\n",
    "            me=0.000511\n",
    "            en1=np.sqrt((me**2+p_1**2))\n",
    "            en2=np.sqrt((me**2+p_2**2))\n",
    "        \n",
    "        #Calculating mass\n",
    "            m=np.sqrt(2*me**2+2*(en1*en2-(px1*px2+py1*py2+pz1*pz2)))\n",
    "            eemass.append(m)\n",
    "    \n",
    "    #Signal Background\n",
    "    zpmass=[]\n",
    "    for i in range(len(zp[x])):\n",
    "        if \"NumElectrons: 2\" in zp[x][i]:\n",
    "            collision=[]\n",
    "            electron1=[]\n",
    "            electron2=[]\n",
    "            collision.append(zp[x][i+1])\n",
    "            collision.append(zp[x][i+2])\n",
    "        \n",
    "        #Extracting Pt1 (0)\n",
    "            index_b=14\n",
    "            index_e=collision[0].find(\" Eta\")\n",
    "            electron1.append(collision[0][index_b:index_e])\n",
    "        \n",
    "        #Extracting Eta1 (1)\n",
    "            index_b=index_e+5\n",
    "            index_e=collision[0].find(\" Phi\")\n",
    "            electron1.append(collision[0][index_b:index_e])\n",
    "        \n",
    "        #Extracting Phi1 (2)\n",
    "            index_b=index_e+5\n",
    "            index_e=collision[0].find(\" Charge\")\n",
    "            electron1.append(collision[0][index_b:index_e])\n",
    "        \n",
    "        #Extracting Pt2 (0)\n",
    "            index_b=14\n",
    "            index_e=collision[1].find(\" Eta\")\n",
    "            electron2.append(collision[1][index_b:index_e])\n",
    "        \n",
    "        #Extracting Eta2 (1)\n",
    "            index_b=index_e+5\n",
    "            index_e=collision[1].find(\" Phi\")\n",
    "            electron2.append(collision[1][index_b:index_e])\n",
    "        \n",
    "        #Extracting Phi2 (2)\n",
    "            index_b=index_e+5\n",
    "            index_e=collision[1].find(\" Charge\")\n",
    "            electron2.append(collision[1][index_b:index_e])\n",
    "        \n",
    "        #Calculate momentum x,y,z\n",
    "            px1=float(electron1[0])*np.cos(float(electron1[2]))\n",
    "            py1=float(electron1[0])*np.sin(float(electron1[2]))\n",
    "            pz1=float(electron1[0])*np.sinh(float(electron1[1]))\n",
    "            px2=float(electron2[0])*np.cos(float(electron2[2]))\n",
    "            py2=float(electron2[0])*np.sin(float(electron2[2]))\n",
    "            pz2=float(electron2[0])*np.sinh(float(electron2[1]))\n",
    "        \n",
    "        #Calculating energy\n",
    "            p_1=np.sqrt((px1**2+py1**2+pz1**2))\n",
    "            p_2=np.sqrt((px2**2+py2**2+pz2**2))\n",
    "            me=0.000511\n",
    "            en1=np.sqrt((me**2+p_1**2))\n",
    "            en2=np.sqrt((me**2+p_2**2))\n",
    "        \n",
    "        #Calculating mass\n",
    "            m=np.sqrt(2*me**2+2*(en1*en2-(px1*px2+py1*py2+pz1*pz2)))\n",
    "            zpmass.append(m)\n",
    "    \n",
    "    #Graphing Signal and Background\n",
    "    #Calculating Weights\n",
    "    wts=[w]*len(zpmass)\n",
    "    wtb=[2]*len(eemass)\n",
    "    \n",
    "    #Optimizing Bin Width\n",
    "    binsize=np.histogram_bin_edges(eemass+zpmass, bins='auto', range=[rb,re])\n",
    "   \n",
    "    #Creating Graph\n",
    "    plot.xlabel(\"Mass (GeV)\")\n",
    "    plot.ylabel(\"Counts\")\n",
    "    if x==0:\n",
    "        plot.title(\"Graph of 200 GeV Signal\")\n",
    "    if x==1:\n",
    "        plot.title(\"Graph of 300 GeV Signal\")\n",
    "    if x==2:\n",
    "        plot.title(\"Graph of 400 GeV Signal\")\n",
    "    if x==3:\n",
    "        plot.title(\"Graph of 500 GeV Signal\")\n",
    "    if x==4:\n",
    "        plot.title(\"Graph of 750 GeV Signal\")\n",
    "    if x==5:\n",
    "        plot.title(\"Graph of 1000 GeV Signal\")\n",
    "    (ns,bins,patches)=plot.hist(eemass+zpmass,bins=binsize,range=[rb,re],weights=(wtb+wts),label='Signal')\n",
    "    (nb,bins,patches)=plot.hist(eemass,bins=binsize,range=[rb,re],weights=(wtb),label='Background')\n",
    "    plot.legend()\n",
    "    plot.show()\n",
    "    print('Optimized amount of bins:',len(binsize))\n",
    "    print('')\n",
    "    \n",
    "    #Finding bin with maximum difference\n",
    "    dif=ns-nb\n",
    "    max = dif[0]\n",
    "    max_idx = 0\n",
    "    \n",
    "    for i in range(len(dif)):\n",
    "        if dif[i] > max:\n",
    "            max = dif[i]\n",
    "            max_idx = i\n",
    "    \n",
    "    #Maximizing value of Nsignal/sqrt(Nbackground) (Same Delta)\n",
    "    nsignal=dif[max_idx]\n",
    "    nbackground=nb[max_idx]\n",
    "    count=0\n",
    "    window1=nsignal/np.sqrt(nbackground)\n",
    "    window2=0\n",
    "    while window1>=window2:\n",
    "        window2=window1\n",
    "        count+=1\n",
    "        nsignal+=dif[max_idx+count]\n",
    "        nsignal+=dif[max_idx-count]\n",
    "        nbackground+=nb[max_idx+count]\n",
    "        nbackground+=nb[max_idx-count]\n",
    "        window1=nsignal/np.sqrt(nbackground)\n",
    "    print('Same \\u0394:')\n",
    "    print('The statistical significance is',window2)\n",
    "    print('Optimized mass window is between',bins[max_idx-count],'GeV and',bins[max_idx+count],'GeV centered at',bins[max_idx],'GeV.')\n",
    "    print('\\u0394 =',(bins[max_idx+count]-bins[max_idx-count])/2)\n",
    "    print('')\n",
    "    \n",
    "    #Maximizing value of Nsignal/sqrt(Nbackground) (Different Delta)\n",
    "    \n",
    "    #High delta\n",
    "    counth=0\n",
    "    nsignalh=dif[max_idx]\n",
    "    nbackgroundh=nb[max_idx]\n",
    "    window1h=nsignalh/np.sqrt(nbackgroundh)\n",
    "    window2h=0\n",
    "    while window1h>=window2h:\n",
    "        window2h=window1h\n",
    "        counth+=1\n",
    "        nsignalh+=dif[max_idx+counth]\n",
    "        nbackgroundh+=nb[max_idx+counth]\n",
    "        window1h=nsignalh/np.sqrt(nbackgroundh)\n",
    "        if window2h>=window1h:\n",
    "            counth-=1\n",
    "\n",
    "    #Low delta\n",
    "    countl=0\n",
    "    nsignall=dif[max_idx]\n",
    "    nbackgroundl=nb[max_idx]\n",
    "    window1l=nsignall/np.sqrt(nbackgroundl)\n",
    "    window2l=0\n",
    "    while window1l>=window2l:\n",
    "        window2l=window1l\n",
    "        countl+=1\n",
    "        nsignall+=dif[max_idx-countl]\n",
    "        nbackgroundl+=nb[max_idx-countl]\n",
    "        window1l=nsignall/np.sqrt(nbackgroundl)\n",
    "        if window2l>=window1l:\n",
    "            countl-=1\n",
    "    \n",
    "    #Using the high and low deltas to calculate new window\n",
    "    nsignal=dif[max_idx]\n",
    "    nbackground=nb[max_idx]\n",
    "    for j in range(counth):\n",
    "        nsignal+=dif[max_idx+j+1]\n",
    "        nbackground+=nb[max_idx+j+1]    \n",
    "    for k in range(countl):\n",
    "        nsignal+=dif[max_idx-k-1]\n",
    "        nbackground+=nb[max_idx-k-1]        \n",
    "    window=nsignal/np.sqrt(nbackground)\n",
    "    print('Different \\u0394:')\n",
    "    print('The statistical significance is',window)\n",
    "    print('Optimized mass window is between',bins[max_idx-countl],'GeV and',bins[max_idx+counth],'GeV centered at',bins[max_idx],'GeV.')\n",
    "    print('\\u0394 high =',(bins[max_idx+counth]-bins[max_idx]))\n",
    "    print('\\u0394 low =',(bins[max_idx]-bins[max_idx-countl]))\n",
    "    print('')"
   ]
  },
  {
   "cell_type": "code",
   "execution_count": 5,
   "metadata": {},
   "outputs": [
    {
     "data": {
      "image/png": "[encoded data removed]",
      "text/plain": [
       "<Figure size 432x288 with 1 Axes>"
      ]
     },
     "metadata": {
      "needs_background": "light"
     },
     "output_type": "display_data"
    },
    {
     "name": "stdout",
     "output_type": "stream",
     "text": [
      "Optimized amount of bins: 41\n",
      "\n",
      "Same Δ:\n",
      "The statistical significance is 62.60608964951714\n",
      "Optimized mass window is between 190.125 GeV and 209.375 GeV centered at 199.75 GeV.\n",
      "Δ = 9.625\n",
      "\n",
      "Different Δ:\n",
      "The statistical significance is 62.51356452307335\n",
      "Optimized mass window is between 192.875 GeV and 206.625 GeV centered at 199.75 GeV.\n",
      "Δ high = 6.875\n",
      "Δ low = 6.875\n",
      "\n"
     ]
    },
    {
     "data": {
      "image/png": "[encoded data removed]",
      "text/plain": [
       "<Figure size 432x288 with 1 Axes>"
      ]
     },
     "metadata": {
      "needs_background": "light"
     },
     "output_type": "display_data"
    },
    {
     "name": "stdout",
     "output_type": "stream",
     "text": [
      "Optimized amount of bins: 38\n",
      "\n",
      "Same Δ:\n",
      "The statistical significance is 49.25239601744489\n",
      "Optimized mass window is between 288.3783783783784 GeV and 309.18918918918916 GeV centered at 298.7837837837838 GeV.\n",
      "Δ = 10.40540540540539\n",
      "\n",
      "Different Δ:\n",
      "The statistical significance is 48.89988545338505\n",
      "Optimized mass window is between 292.8378378378378 GeV and 307.7027027027027 GeV centered at 298.7837837837838 GeV.\n",
      "Δ high = 8.918918918918905\n",
      "Δ low = 5.945945945945994\n",
      "\n"
     ]
    },
    {
     "data": {
      "image/png": "[encoded data removed]",
      "text/plain": [
       "<Figure size 432x288 with 1 Axes>"
      ]
     },
     "metadata": {
      "needs_background": "light"
     },
     "output_type": "display_data"
    },
    {
     "name": "stdout",
     "output_type": "stream",
     "text": [
      "Optimized amount of bins: 33\n",
      "\n",
      "Same Δ:\n",
      "The statistical significance is 39.74125511453561\n",
      "Optimized mass window is between 390.0 GeV and 410.0 GeV centered at 400.0 GeV.\n",
      "Δ = 10.0\n",
      "\n",
      "Different Δ:\n",
      "The statistical significance is 39.95917911882853\n",
      "Optimized mass window is between 392.5 GeV and 406.25 GeV centered at 400.0 GeV.\n",
      "Δ high = 6.25\n",
      "Δ low = 7.5\n",
      "\n"
     ]
    },
    {
     "data": {
      "image/png": "[encoded data removed]",
      "text/plain": [
       "<Figure size 432x288 with 1 Axes>"
      ]
     },
     "metadata": {
      "needs_background": "light"
     },
     "output_type": "display_data"
    },
    {
     "name": "stdout",
     "output_type": "stream",
     "text": [
      "Optimized amount of bins: 31\n",
      "\n",
      "Same Δ:\n",
      "The statistical significance is 30.27249823417906\n",
      "Optimized mass window is between 489.6666666666667 GeV and 510.6666666666667 GeV centered at 500.1666666666667 GeV.\n",
      "Δ = 10.5\n",
      "\n",
      "Different Δ:\n",
      "The statistical significance is 30.31867103091484\n",
      "Optimized mass window is between 490.8333333333333 GeV and 507.1666666666667 GeV centered at 500.1666666666667 GeV.\n",
      "Δ high = 7.0\n",
      "Δ low = 9.333333333333371\n",
      "\n"
     ]
    },
    {
     "data": {
      "image/png": "[encoded data removed]",
      "text/plain": [
       "<Figure size 432x288 with 1 Axes>"
      ]
     },
     "metadata": {
      "needs_background": "light"
     },
     "output_type": "display_data"
    },
    {
     "name": "stdout",
     "output_type": "stream",
     "text": [
      "Optimized amount of bins: 39\n",
      "\n",
      "Same Δ:\n",
      "The statistical significance is 27.079944238335408\n",
      "Optimized mass window is between 735.2631578947369 GeV and 760.5263157894736 GeV centered at 747.8947368421052 GeV.\n",
      "Δ = 12.631578947368382\n",
      "\n",
      "Different Δ:\n",
      "The statistical significance is 27.349812653885643\n",
      "Optimized mass window is between 741.578947368421 GeV and 757.3684210526316 GeV centered at 747.8947368421052 GeV.\n",
      "Δ high = 9.473684210526358\n",
      "Δ low = 6.315789473684163\n",
      "\n"
     ]
    },
    {
     "data": {
      "image/png": "[encoded data removed]",
      "text/plain": [
       "<Figure size 432x288 with 1 Axes>"
      ]
     },
     "metadata": {
      "needs_background": "light"
     },
     "output_type": "display_data"
    },
    {
     "name": "stdout",
     "output_type": "stream",
     "text": [
      "Optimized amount of bins: 32\n",
      "\n",
      "Same Δ:\n",
      "The statistical significance is 18.691981085981432\n",
      "Optimized mass window is between 987.4193548387096 GeV and 1010.6451612903226 GeV centered at 999.0322580645161 GeV.\n",
      "Δ = 11.612903225806463\n",
      "\n",
      "Different Δ:\n",
      "The statistical significance is 18.82096047867017\n",
      "Optimized mass window is between 989.3548387096774 GeV and 1006.7741935483871 GeV centered at 999.0322580645161 GeV.\n",
      "Δ high = 7.741935483870975\n",
      "Δ low = 9.677419354838662\n",
      "\n"
     ]
    }
   ],
   "source": [
    "#test(data set,signal weight,range start,range end)\n",
    "#GeV 200\n",
    "test(0,3,175,230)\n",
    "#GeV 300\n",
    "test(1,2,275,330)\n",
    "#GeV 400\n",
    "test(2,1.5,380,420)\n",
    "#GeV 500\n",
    "test(3,1,485,520)\n",
    "#GeV 750\n",
    "test(4,0.75,710,830)\n",
    "#GeV 1000\n",
    "test(5,0.5,970,1030)"
   ]
  }
 ],
 "metadata": {
  "kernelspec": {
   "display_name": "Python 3",
   "language": "python",
   "name": "python3"
  },
  "language_info": {
   "codemirror_mode": {
    "name": "ipython",
    "version": 3
   },
   "file_extension": ".py",
   "mimetype": "text/x-python",
   "name": "python",
   "nbconvert_exporter": "python",
   "pygments_lexer": "ipython3",
   "version": "3.7.6"
  }
 },
 "nbformat": 4,
 "nbformat_minor": 4
}
